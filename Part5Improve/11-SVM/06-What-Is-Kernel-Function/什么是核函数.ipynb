{
 "cells": [
  {
   "cell_type": "markdown",
   "metadata": {},
   "source": [
    "# 什么是核函数"
   ]
  },
  {
   "cell_type": "markdown",
   "metadata": {},
   "source": [
    "## SVM最优化目标的等效变形\n",
    "![SVM最优化目标的等效变形](images/SVM最优化目标的等效变形.png)\n",
    "假设有![Kernel函数引入](images/Kernel函数引入.png),K就是核函数，使用核函数可以使计算量减少，同时节省存储空间，原目标就变成了\n",
    "![引入核函数后的目标表达式](images/引入核函数后的目标表达式.png)"
   ]
  },
  {
   "cell_type": "markdown",
   "metadata": {},
   "source": [
    "## 多项式核函数\n",
    "![多项式核函数](images/多项式核函数.png)\n",
    "![多项式核函数2](images/多项式核函数2.png)"
   ]
  },
  {
   "cell_type": "markdown",
   "metadata": {},
   "source": [
    "核函数的幂实际可以是任意次幂的，常数项也可以是任意值，所以我们又引入了c和d两个超参数  \n",
    "![多项式核函数的最终形式](images/多项式核函数的最终形式.png)  \n",
    "上面三个超参数的含义如下：  \n",
    "![多项式核函数的超参数](images/多项式核函数的超参数.png)"
   ]
  },
  {
   "cell_type": "markdown",
   "metadata": {},
   "source": [
    "此外还有线性核函数  \n",
    "![线性核函数](images/线性核函数.png)  \n",
    "最为著名的核函数叫高斯核函数，下节将重点介绍"
   ]
  }
 ],
 "metadata": {
  "kernelspec": {
   "display_name": "Python 3",
   "language": "python",
   "name": "python3"
  },
  "language_info": {
   "codemirror_mode": {
    "name": "ipython",
    "version": 3
   },
   "file_extension": ".py",
   "mimetype": "text/x-python",
   "name": "python",
   "nbconvert_exporter": "python",
   "pygments_lexer": "ipython3",
   "version": "3.7.3"
  }
 },
 "nbformat": 4,
 "nbformat_minor": 4
}
